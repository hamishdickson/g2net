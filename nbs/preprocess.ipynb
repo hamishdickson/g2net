{
 "cells": [
  {
   "cell_type": "code",
   "execution_count": 1,
   "source": [
    "import numpy as np\n",
    "\n",
    "import torch\n",
    "from torch.utils.data import Dataset\n",
    "from nnAudio.Spectrogram import CQT1992v2\n",
    "\n",
    "import pandas as pd"
   ],
   "outputs": [],
   "metadata": {}
  },
  {
   "cell_type": "code",
   "execution_count": 2,
   "source": [
    "df = pd.read_csv(\"../input/train_folds.csv\")\n",
    "df.head(3)"
   ],
   "outputs": [
    {
     "output_type": "execute_result",
     "data": {
      "text/plain": [
       "   Unnamed: 0          id  target                         file_path  fold\n",
       "0           0  00000e74ad       1  input/train/0/0/0/00000e74ad.npy     2\n",
       "1           1  00001f4945       0  input/train/0/0/0/00001f4945.npy     1\n",
       "2           2  0000661522       0  input/train/0/0/0/0000661522.npy     3"
      ],
      "text/html": [
       "<div>\n",
       "<style scoped>\n",
       "    .dataframe tbody tr th:only-of-type {\n",
       "        vertical-align: middle;\n",
       "    }\n",
       "\n",
       "    .dataframe tbody tr th {\n",
       "        vertical-align: top;\n",
       "    }\n",
       "\n",
       "    .dataframe thead th {\n",
       "        text-align: right;\n",
       "    }\n",
       "</style>\n",
       "<table border=\"1\" class=\"dataframe\">\n",
       "  <thead>\n",
       "    <tr style=\"text-align: right;\">\n",
       "      <th></th>\n",
       "      <th>Unnamed: 0</th>\n",
       "      <th>id</th>\n",
       "      <th>target</th>\n",
       "      <th>file_path</th>\n",
       "      <th>fold</th>\n",
       "    </tr>\n",
       "  </thead>\n",
       "  <tbody>\n",
       "    <tr>\n",
       "      <th>0</th>\n",
       "      <td>0</td>\n",
       "      <td>00000e74ad</td>\n",
       "      <td>1</td>\n",
       "      <td>input/train/0/0/0/00000e74ad.npy</td>\n",
       "      <td>2</td>\n",
       "    </tr>\n",
       "    <tr>\n",
       "      <th>1</th>\n",
       "      <td>1</td>\n",
       "      <td>00001f4945</td>\n",
       "      <td>0</td>\n",
       "      <td>input/train/0/0/0/00001f4945.npy</td>\n",
       "      <td>1</td>\n",
       "    </tr>\n",
       "    <tr>\n",
       "      <th>2</th>\n",
       "      <td>2</td>\n",
       "      <td>0000661522</td>\n",
       "      <td>0</td>\n",
       "      <td>input/train/0/0/0/0000661522.npy</td>\n",
       "      <td>3</td>\n",
       "    </tr>\n",
       "  </tbody>\n",
       "</table>\n",
       "</div>"
      ]
     },
     "metadata": {},
     "execution_count": 2
    }
   ],
   "metadata": {}
  },
  {
   "cell_type": "code",
   "execution_count": null,
   "source": [
    "\n",
    "class TrainDataset(Dataset):\n",
    "    def __init__(self, CFG, df, transform=None):\n",
    "        self.df = df\n",
    "        self.file_names = df[\"file_path\"].values\n",
    "        self.labels = df[\"target\"].values\n",
    "        # TRYME worth playing with these values\n",
    "        self.wave_transform = CQT1992v2(sr=2048, fmin=20, fmax=1024, hop_length=16)\n",
    "        self.transform = transform\n",
    "\n",
    "    def __len__(self):\n",
    "        return len(self.df)\n",
    "\n",
    "    def apply_qtransform(self, waves, transform):\n",
    "        waves = np.hstack(waves)\n",
    "        # TRYME maybe worth playing with this scaling\n",
    "        waves = waves / np.max(waves)\n",
    "        waves = torch.from_numpy(waves).float()\n",
    "        image = transform(waves)\n",
    "        return image\n",
    "\n",
    "    def __getitem__(self, idx):\n",
    "        file_path = self.file_names[idx]\n",
    "        waves = np.load(file_path)\n",
    "        image = self.apply_qtransform(waves, self.wave_transform)\n",
    "        if self.transform:\n",
    "            image = image.squeeze().numpy()\n",
    "            image = self.transform(image=image)[\"image\"]\n",
    "        label = torch.tensor(self.labels[idx]).float()\n",
    "        return image, label"
   ],
   "outputs": [],
   "metadata": {}
  },
  {
   "cell_type": "code",
   "execution_count": 4,
   "source": [
    "from tqdm import tqdm"
   ],
   "outputs": [],
   "metadata": {}
  },
  {
   "cell_type": "code",
   "execution_count": 8,
   "source": [
    "pths = df.file_path.values\n",
    "idxs = df.id.values\n",
    "\n",
    "wave_transform = CQT1992v2(sr=2048, fmin=20, fmax=1024, hop_length=16)\n",
    "\n",
    "def apply_qtransform(waves, transform):\n",
    "    waves = np.hstack(waves)\n",
    "    # TRYME maybe worth playing with this scaling\n",
    "    waves = waves / np.max(waves)\n",
    "    waves = torch.from_numpy(waves).float()\n",
    "    image = transform(waves)\n",
    "    return image\n",
    "\n",
    "for idx, pth in tqdm(zip(idxs, pths)):\n",
    "    waves = np.load(f\"../{pth}\")\n",
    "    img = apply_qtransform(waves, wave_transform)\n",
    "    np.save(f\"../input/train_1d/{idx}.npy\", img)"
   ],
   "outputs": [
    {
     "output_type": "stream",
     "name": "stdout",
     "text": [
      "CQT kernels created, time used = 0.0134 seconds\n"
     ]
    },
    {
     "output_type": "stream",
     "name": "stderr",
     "text": [
      "560000it [1:20:37, 115.75it/s]\n"
     ]
    }
   ],
   "metadata": {}
  },
  {
   "cell_type": "code",
   "execution_count": 3,
   "source": [
    "!mkdir ../input/train_1d"
   ],
   "outputs": [],
   "metadata": {}
  },
  {
   "cell_type": "code",
   "execution_count": null,
   "source": [],
   "outputs": [],
   "metadata": {}
  }
 ],
 "metadata": {
  "orig_nbformat": 4,
  "language_info": {
   "name": "python",
   "version": "3.8.10",
   "mimetype": "text/x-python",
   "codemirror_mode": {
    "name": "ipython",
    "version": 3
   },
   "pygments_lexer": "ipython3",
   "nbconvert_exporter": "python",
   "file_extension": ".py"
  },
  "kernelspec": {
   "name": "python3",
   "display_name": "Python 3.8.10 64-bit ('rapids-v4': conda)"
  },
  "interpreter": {
   "hash": "0f7903ac294ad2cfa4b460d4d76e837ac8b3eb19f1a8b3e51f3109d2ad8b1409"
  }
 },
 "nbformat": 4,
 "nbformat_minor": 2
}