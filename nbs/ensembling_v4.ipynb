{
 "cells": [
  {
   "cell_type": "code",
   "execution_count": 21,
   "source": [
    "import pandas as pd\n",
    "import numpy as np"
   ],
   "outputs": [],
   "metadata": {}
  },
  {
   "cell_type": "code",
   "execution_count": 2,
   "source": [
    "df = pd.read_csv(\"../input/train_folds.csv\")\n",
    "df.head(3)"
   ],
   "outputs": [
    {
     "output_type": "execute_result",
     "data": {
      "text/plain": [
       "           id  target                         file_path  fold\n",
       "0  00000e74ad       1  input/train/0/0/0/00000e74ad.npy     2\n",
       "1  00001f4945       0  input/train/0/0/0/00001f4945.npy     1\n",
       "2  0000661522       0  input/train/0/0/0/0000661522.npy     3"
      ],
      "text/html": [
       "<div>\n",
       "<style scoped>\n",
       "    .dataframe tbody tr th:only-of-type {\n",
       "        vertical-align: middle;\n",
       "    }\n",
       "\n",
       "    .dataframe tbody tr th {\n",
       "        vertical-align: top;\n",
       "    }\n",
       "\n",
       "    .dataframe thead th {\n",
       "        text-align: right;\n",
       "    }\n",
       "</style>\n",
       "<table border=\"1\" class=\"dataframe\">\n",
       "  <thead>\n",
       "    <tr style=\"text-align: right;\">\n",
       "      <th></th>\n",
       "      <th>id</th>\n",
       "      <th>target</th>\n",
       "      <th>file_path</th>\n",
       "      <th>fold</th>\n",
       "    </tr>\n",
       "  </thead>\n",
       "  <tbody>\n",
       "    <tr>\n",
       "      <th>0</th>\n",
       "      <td>00000e74ad</td>\n",
       "      <td>1</td>\n",
       "      <td>input/train/0/0/0/00000e74ad.npy</td>\n",
       "      <td>2</td>\n",
       "    </tr>\n",
       "    <tr>\n",
       "      <th>1</th>\n",
       "      <td>00001f4945</td>\n",
       "      <td>0</td>\n",
       "      <td>input/train/0/0/0/00001f4945.npy</td>\n",
       "      <td>1</td>\n",
       "    </tr>\n",
       "    <tr>\n",
       "      <th>2</th>\n",
       "      <td>0000661522</td>\n",
       "      <td>0</td>\n",
       "      <td>input/train/0/0/0/0000661522.npy</td>\n",
       "      <td>3</td>\n",
       "    </tr>\n",
       "  </tbody>\n",
       "</table>\n",
       "</div>"
      ]
     },
     "metadata": {},
     "execution_count": 2
    }
   ],
   "metadata": {}
  },
  {
   "cell_type": "code",
   "execution_count": 3,
   "source": [
    "import torch"
   ],
   "outputs": [],
   "metadata": {}
  },
  {
   "cell_type": "code",
   "execution_count": 4,
   "source": [
    "n_folds = 1"
   ],
   "outputs": [],
   "metadata": {}
  },
  {
   "cell_type": "code",
   "execution_count": 5,
   "source": [
    "states_b0 = [torch.load(f\"../final_models/v_4/b0_3d_v4/tf_efficientnet_b0_ns_fold{fold}_best_score.pth\") for fold in range(n_folds)]"
   ],
   "outputs": [],
   "metadata": {}
  },
  {
   "cell_type": "code",
   "execution_count": 6,
   "source": [
    "# states_b1 = [torch.load(f\"../final_models/v_4/b1_3d_v4/tf_efficientnet_b1_ns_fold{fold}_best_score.pth\") for fold in range(n_folds)]"
   ],
   "outputs": [],
   "metadata": {}
  },
  {
   "cell_type": "code",
   "execution_count": 7,
   "source": [
    "states_b2 = [torch.load(f\"../final_models/v_4/b2_3d_v4/tf_efficientnet_b2_ns_fold{fold}_best_score.pth\") for fold in range(n_folds)]"
   ],
   "outputs": [],
   "metadata": {}
  },
  {
   "cell_type": "code",
   "execution_count": 8,
   "source": [
    "states_b7 = [torch.load(f\"../final_models/v_4/b7_3d_v4/tf_efficientnet_b7_ns_fold{fold}_best_score.pth\") for fold in range(n_folds)]"
   ],
   "outputs": [],
   "metadata": {}
  },
  {
   "cell_type": "code",
   "execution_count": 9,
   "source": [
    "oof_df = pd.DataFrame()\n",
    "for fold in range(n_folds):\n",
    "    _df = df[df['fold'] == fold].reset_index(drop=True)\n",
    "    preds_b0 = states_b0[fold]['preds'].flatten()\n",
    "    # preds_b1 = states_b1[fold]['preds'].flatten()\n",
    "    preds_b2 = states_b2[fold]['preds'].flatten()\n",
    "    preds_b7 = states_b7[fold]['preds'].flatten()\n",
    "    \n",
    "    _df['preds_b0'] = preds_b0\n",
    "    # _df['preds_b1'] = preds_b1\n",
    "    _df['preds_b2'] = preds_b2\n",
    "    _df['preds_b7'] = preds_b7\n",
    "    oof_df = pd.concat([oof_df, _df])"
   ],
   "outputs": [],
   "metadata": {}
  },
  {
   "cell_type": "code",
   "execution_count": 10,
   "source": [
    "oof_df.head(10)"
   ],
   "outputs": [
    {
     "output_type": "execute_result",
     "data": {
      "text/plain": [
       "           id  target                         file_path  fold  preds_b0  \\\n",
       "0  00010beb4a       1  input/train/0/0/0/00010beb4a.npy     0  0.384521   \n",
       "1  00014b7a9d       1  input/train/0/0/0/00014b7a9d.npy     0  0.213379   \n",
       "2  0001c76f56       1  input/train/0/0/0/0001c76f56.npy     0  0.650391   \n",
       "3  0002b883f5       0  input/train/0/0/0/0002b883f5.npy     0  0.186523   \n",
       "4  00034d8429       0  input/train/0/0/0/00034d8429.npy     0  0.169312   \n",
       "5  000367454d       1  input/train/0/0/0/000367454d.npy     0  0.455811   \n",
       "6  00054fd779       1  input/train/0/0/0/00054fd779.npy     0  0.918457   \n",
       "7  0006166539       1  input/train/0/0/0/0006166539.npy     0  1.000000   \n",
       "8  00061fc157       0  input/train/0/0/0/00061fc157.npy     0  0.556641   \n",
       "9  000698406f       0  input/train/0/0/0/000698406f.npy     0  0.216797   \n",
       "\n",
       "   preds_b2  preds_b7  \n",
       "0  0.375488  0.392578  \n",
       "1  0.219849  0.192871  \n",
       "2  0.696777  0.570801  \n",
       "3  0.209351  0.188477  \n",
       "4  0.148560  0.113953  \n",
       "5  0.347656  0.371338  \n",
       "6  0.935059  0.966309  \n",
       "7  1.000000  1.000000  \n",
       "8  0.465820  0.429443  \n",
       "9  0.176392  0.183472  "
      ],
      "text/html": [
       "<div>\n",
       "<style scoped>\n",
       "    .dataframe tbody tr th:only-of-type {\n",
       "        vertical-align: middle;\n",
       "    }\n",
       "\n",
       "    .dataframe tbody tr th {\n",
       "        vertical-align: top;\n",
       "    }\n",
       "\n",
       "    .dataframe thead th {\n",
       "        text-align: right;\n",
       "    }\n",
       "</style>\n",
       "<table border=\"1\" class=\"dataframe\">\n",
       "  <thead>\n",
       "    <tr style=\"text-align: right;\">\n",
       "      <th></th>\n",
       "      <th>id</th>\n",
       "      <th>target</th>\n",
       "      <th>file_path</th>\n",
       "      <th>fold</th>\n",
       "      <th>preds_b0</th>\n",
       "      <th>preds_b2</th>\n",
       "      <th>preds_b7</th>\n",
       "    </tr>\n",
       "  </thead>\n",
       "  <tbody>\n",
       "    <tr>\n",
       "      <th>0</th>\n",
       "      <td>00010beb4a</td>\n",
       "      <td>1</td>\n",
       "      <td>input/train/0/0/0/00010beb4a.npy</td>\n",
       "      <td>0</td>\n",
       "      <td>0.384521</td>\n",
       "      <td>0.375488</td>\n",
       "      <td>0.392578</td>\n",
       "    </tr>\n",
       "    <tr>\n",
       "      <th>1</th>\n",
       "      <td>00014b7a9d</td>\n",
       "      <td>1</td>\n",
       "      <td>input/train/0/0/0/00014b7a9d.npy</td>\n",
       "      <td>0</td>\n",
       "      <td>0.213379</td>\n",
       "      <td>0.219849</td>\n",
       "      <td>0.192871</td>\n",
       "    </tr>\n",
       "    <tr>\n",
       "      <th>2</th>\n",
       "      <td>0001c76f56</td>\n",
       "      <td>1</td>\n",
       "      <td>input/train/0/0/0/0001c76f56.npy</td>\n",
       "      <td>0</td>\n",
       "      <td>0.650391</td>\n",
       "      <td>0.696777</td>\n",
       "      <td>0.570801</td>\n",
       "    </tr>\n",
       "    <tr>\n",
       "      <th>3</th>\n",
       "      <td>0002b883f5</td>\n",
       "      <td>0</td>\n",
       "      <td>input/train/0/0/0/0002b883f5.npy</td>\n",
       "      <td>0</td>\n",
       "      <td>0.186523</td>\n",
       "      <td>0.209351</td>\n",
       "      <td>0.188477</td>\n",
       "    </tr>\n",
       "    <tr>\n",
       "      <th>4</th>\n",
       "      <td>00034d8429</td>\n",
       "      <td>0</td>\n",
       "      <td>input/train/0/0/0/00034d8429.npy</td>\n",
       "      <td>0</td>\n",
       "      <td>0.169312</td>\n",
       "      <td>0.148560</td>\n",
       "      <td>0.113953</td>\n",
       "    </tr>\n",
       "    <tr>\n",
       "      <th>5</th>\n",
       "      <td>000367454d</td>\n",
       "      <td>1</td>\n",
       "      <td>input/train/0/0/0/000367454d.npy</td>\n",
       "      <td>0</td>\n",
       "      <td>0.455811</td>\n",
       "      <td>0.347656</td>\n",
       "      <td>0.371338</td>\n",
       "    </tr>\n",
       "    <tr>\n",
       "      <th>6</th>\n",
       "      <td>00054fd779</td>\n",
       "      <td>1</td>\n",
       "      <td>input/train/0/0/0/00054fd779.npy</td>\n",
       "      <td>0</td>\n",
       "      <td>0.918457</td>\n",
       "      <td>0.935059</td>\n",
       "      <td>0.966309</td>\n",
       "    </tr>\n",
       "    <tr>\n",
       "      <th>7</th>\n",
       "      <td>0006166539</td>\n",
       "      <td>1</td>\n",
       "      <td>input/train/0/0/0/0006166539.npy</td>\n",
       "      <td>0</td>\n",
       "      <td>1.000000</td>\n",
       "      <td>1.000000</td>\n",
       "      <td>1.000000</td>\n",
       "    </tr>\n",
       "    <tr>\n",
       "      <th>8</th>\n",
       "      <td>00061fc157</td>\n",
       "      <td>0</td>\n",
       "      <td>input/train/0/0/0/00061fc157.npy</td>\n",
       "      <td>0</td>\n",
       "      <td>0.556641</td>\n",
       "      <td>0.465820</td>\n",
       "      <td>0.429443</td>\n",
       "    </tr>\n",
       "    <tr>\n",
       "      <th>9</th>\n",
       "      <td>000698406f</td>\n",
       "      <td>0</td>\n",
       "      <td>input/train/0/0/0/000698406f.npy</td>\n",
       "      <td>0</td>\n",
       "      <td>0.216797</td>\n",
       "      <td>0.176392</td>\n",
       "      <td>0.183472</td>\n",
       "    </tr>\n",
       "  </tbody>\n",
       "</table>\n",
       "</div>"
      ]
     },
     "metadata": {},
     "execution_count": 10
    }
   ],
   "metadata": {}
  },
  {
   "cell_type": "code",
   "execution_count": 11,
   "source": [
    "from sklearn.linear_model import LinearRegression"
   ],
   "outputs": [],
   "metadata": {}
  },
  {
   "cell_type": "code",
   "execution_count": 12,
   "source": [
    "X = oof_df[['preds_b0', 'preds_b2', 'preds_b7']]\n",
    "y = oof_df.target.values"
   ],
   "outputs": [],
   "metadata": {}
  },
  {
   "cell_type": "code",
   "execution_count": 26,
   "source": [
    "X.values.shape"
   ],
   "outputs": [
    {
     "output_type": "execute_result",
     "data": {
      "text/plain": [
       "(112000, 3)"
      ]
     },
     "metadata": {},
     "execution_count": 26
    }
   ],
   "metadata": {}
  },
  {
   "cell_type": "code",
   "execution_count": 13,
   "source": [
    "reg = LinearRegression().fit(X, y)"
   ],
   "outputs": [],
   "metadata": {}
  },
  {
   "cell_type": "code",
   "execution_count": 14,
   "source": [
    "reg.coef_"
   ],
   "outputs": [
    {
     "output_type": "execute_result",
     "data": {
      "text/plain": [
       "array([0.17825375, 0.31961852, 0.48604485], dtype=float32)"
      ]
     },
     "metadata": {},
     "execution_count": 14
    }
   ],
   "metadata": {}
  },
  {
   "cell_type": "code",
   "execution_count": 15,
   "source": [
    "reg.intercept_"
   ],
   "outputs": [
    {
     "output_type": "execute_result",
     "data": {
      "text/plain": [
       "0.016541123"
      ]
     },
     "metadata": {},
     "execution_count": 15
    }
   ],
   "metadata": {}
  },
  {
   "cell_type": "code",
   "execution_count": 18,
   "source": [
    "df_test_b0 = pd.read_csv(f\"../final_models/v_4/b0_3d_v4/submission.csv\")\n",
    "# df_test_b1 = pd.read_csv(f\"../final_models/v_4/b1_3d_v4/submission.csv\")\n",
    "df_test_b2 = pd.read_csv(f\"../final_models/v_4/b2_3d_v4/submission.csv\")\n",
    "df_test_b7 = pd.read_csv(f\"../final_models/v_4/b7_3d_v4/submission.csv\")"
   ],
   "outputs": [],
   "metadata": {}
  },
  {
   "cell_type": "code",
   "execution_count": 28,
   "source": [
    "test_X = np.vstack([df_test_b0.target.values, df_test_b2.target.values, df_test_b7.target.values]).T"
   ],
   "outputs": [],
   "metadata": {}
  },
  {
   "cell_type": "code",
   "execution_count": 30,
   "source": [
    "sub = pd.read_csv(\"../input/sample_submission.csv\")"
   ],
   "outputs": [],
   "metadata": {}
  },
  {
   "cell_type": "code",
   "execution_count": 31,
   "source": [
    "sub['target'] = reg.predict(test_X)"
   ],
   "outputs": [],
   "metadata": {}
  },
  {
   "cell_type": "code",
   "execution_count": 32,
   "source": [
    "sub"
   ],
   "outputs": [
    {
     "output_type": "execute_result",
     "data": {
      "text/plain": [
       "                id    target\n",
       "0       00005bced6  1.000458\n",
       "1       0000806717  0.970593\n",
       "2       0000ef4fe1  0.323402\n",
       "3       00020de251  0.900390\n",
       "4       00024887b5  0.152023\n",
       "...            ...       ...\n",
       "225995  ffff4125f1  0.284894\n",
       "225996  ffff9d32a6  0.330868\n",
       "225997  ffff9f4c1f  0.253899\n",
       "225998  ffffa19693  1.000458\n",
       "225999  ffffebbfe2  0.101683\n",
       "\n",
       "[226000 rows x 2 columns]"
      ],
      "text/html": [
       "<div>\n",
       "<style scoped>\n",
       "    .dataframe tbody tr th:only-of-type {\n",
       "        vertical-align: middle;\n",
       "    }\n",
       "\n",
       "    .dataframe tbody tr th {\n",
       "        vertical-align: top;\n",
       "    }\n",
       "\n",
       "    .dataframe thead th {\n",
       "        text-align: right;\n",
       "    }\n",
       "</style>\n",
       "<table border=\"1\" class=\"dataframe\">\n",
       "  <thead>\n",
       "    <tr style=\"text-align: right;\">\n",
       "      <th></th>\n",
       "      <th>id</th>\n",
       "      <th>target</th>\n",
       "    </tr>\n",
       "  </thead>\n",
       "  <tbody>\n",
       "    <tr>\n",
       "      <th>0</th>\n",
       "      <td>00005bced6</td>\n",
       "      <td>1.000458</td>\n",
       "    </tr>\n",
       "    <tr>\n",
       "      <th>1</th>\n",
       "      <td>0000806717</td>\n",
       "      <td>0.970593</td>\n",
       "    </tr>\n",
       "    <tr>\n",
       "      <th>2</th>\n",
       "      <td>0000ef4fe1</td>\n",
       "      <td>0.323402</td>\n",
       "    </tr>\n",
       "    <tr>\n",
       "      <th>3</th>\n",
       "      <td>00020de251</td>\n",
       "      <td>0.900390</td>\n",
       "    </tr>\n",
       "    <tr>\n",
       "      <th>4</th>\n",
       "      <td>00024887b5</td>\n",
       "      <td>0.152023</td>\n",
       "    </tr>\n",
       "    <tr>\n",
       "      <th>...</th>\n",
       "      <td>...</td>\n",
       "      <td>...</td>\n",
       "    </tr>\n",
       "    <tr>\n",
       "      <th>225995</th>\n",
       "      <td>ffff4125f1</td>\n",
       "      <td>0.284894</td>\n",
       "    </tr>\n",
       "    <tr>\n",
       "      <th>225996</th>\n",
       "      <td>ffff9d32a6</td>\n",
       "      <td>0.330868</td>\n",
       "    </tr>\n",
       "    <tr>\n",
       "      <th>225997</th>\n",
       "      <td>ffff9f4c1f</td>\n",
       "      <td>0.253899</td>\n",
       "    </tr>\n",
       "    <tr>\n",
       "      <th>225998</th>\n",
       "      <td>ffffa19693</td>\n",
       "      <td>1.000458</td>\n",
       "    </tr>\n",
       "    <tr>\n",
       "      <th>225999</th>\n",
       "      <td>ffffebbfe2</td>\n",
       "      <td>0.101683</td>\n",
       "    </tr>\n",
       "  </tbody>\n",
       "</table>\n",
       "<p>226000 rows × 2 columns</p>\n",
       "</div>"
      ]
     },
     "metadata": {},
     "execution_count": 32
    }
   ],
   "metadata": {}
  },
  {
   "cell_type": "code",
   "execution_count": 35,
   "source": [
    "sub.to_csv(\"../final_models/v_4/submission.csv\", index=False)"
   ],
   "outputs": [],
   "metadata": {}
  },
  {
   "cell_type": "code",
   "execution_count": null,
   "source": [],
   "outputs": [],
   "metadata": {}
  }
 ],
 "metadata": {
  "orig_nbformat": 4,
  "language_info": {
   "name": "python",
   "version": "3.8.10",
   "mimetype": "text/x-python",
   "codemirror_mode": {
    "name": "ipython",
    "version": 3
   },
   "pygments_lexer": "ipython3",
   "nbconvert_exporter": "python",
   "file_extension": ".py"
  },
  "kernelspec": {
   "name": "python3",
   "display_name": "Python 3.8.10 64-bit ('rapids-v4': conda)"
  },
  "interpreter": {
   "hash": "0f7903ac294ad2cfa4b460d4d76e837ac8b3eb19f1a8b3e51f3109d2ad8b1409"
  }
 },
 "nbformat": 4,
 "nbformat_minor": 2
}