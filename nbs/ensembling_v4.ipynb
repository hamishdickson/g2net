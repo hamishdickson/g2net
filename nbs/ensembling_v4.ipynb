{
 "cells": [
  {
   "cell_type": "code",
   "execution_count": 1,
   "source": [
    "import pandas as pd\n",
    "import numpy as np"
   ],
   "outputs": [],
   "metadata": {}
  },
  {
   "cell_type": "code",
   "execution_count": 2,
   "source": [
    "df = pd.read_csv(\"../input/train_folds.csv\")\n",
    "df.head(3)"
   ],
   "outputs": [
    {
     "output_type": "execute_result",
     "data": {
      "text/plain": [
       "           id  target                         file_path  fold\n",
       "0  00000e74ad       1  input/train/0/0/0/00000e74ad.npy     2\n",
       "1  00001f4945       0  input/train/0/0/0/00001f4945.npy     1\n",
       "2  0000661522       0  input/train/0/0/0/0000661522.npy     3"
      ],
      "text/html": [
       "<div>\n",
       "<style scoped>\n",
       "    .dataframe tbody tr th:only-of-type {\n",
       "        vertical-align: middle;\n",
       "    }\n",
       "\n",
       "    .dataframe tbody tr th {\n",
       "        vertical-align: top;\n",
       "    }\n",
       "\n",
       "    .dataframe thead th {\n",
       "        text-align: right;\n",
       "    }\n",
       "</style>\n",
       "<table border=\"1\" class=\"dataframe\">\n",
       "  <thead>\n",
       "    <tr style=\"text-align: right;\">\n",
       "      <th></th>\n",
       "      <th>id</th>\n",
       "      <th>target</th>\n",
       "      <th>file_path</th>\n",
       "      <th>fold</th>\n",
       "    </tr>\n",
       "  </thead>\n",
       "  <tbody>\n",
       "    <tr>\n",
       "      <th>0</th>\n",
       "      <td>00000e74ad</td>\n",
       "      <td>1</td>\n",
       "      <td>input/train/0/0/0/00000e74ad.npy</td>\n",
       "      <td>2</td>\n",
       "    </tr>\n",
       "    <tr>\n",
       "      <th>1</th>\n",
       "      <td>00001f4945</td>\n",
       "      <td>0</td>\n",
       "      <td>input/train/0/0/0/00001f4945.npy</td>\n",
       "      <td>1</td>\n",
       "    </tr>\n",
       "    <tr>\n",
       "      <th>2</th>\n",
       "      <td>0000661522</td>\n",
       "      <td>0</td>\n",
       "      <td>input/train/0/0/0/0000661522.npy</td>\n",
       "      <td>3</td>\n",
       "    </tr>\n",
       "  </tbody>\n",
       "</table>\n",
       "</div>"
      ]
     },
     "metadata": {},
     "execution_count": 2
    }
   ],
   "metadata": {}
  },
  {
   "cell_type": "code",
   "execution_count": 3,
   "source": [
    "import torch"
   ],
   "outputs": [],
   "metadata": {}
  },
  {
   "cell_type": "code",
   "execution_count": 5,
   "source": [
    "n_folds = 5"
   ],
   "outputs": [],
   "metadata": {}
  },
  {
   "cell_type": "code",
   "execution_count": 6,
   "source": [
    "states_b0 = [torch.load(f\"../final_models/v_5/b0/tf_efficientnet_b0_ns_fold{fold}_best_score.pth\") for fold in range(n_folds)]"
   ],
   "outputs": [],
   "metadata": {}
  },
  {
   "cell_type": "code",
   "execution_count": 7,
   "source": [
    "states_b1 = [torch.load(f\"../final_models/v_5/b1/tf_efficientnet_b1_ns_fold{fold}_best_score.pth\") for fold in range(n_folds)]"
   ],
   "outputs": [],
   "metadata": {}
  },
  {
   "cell_type": "code",
   "execution_count": 8,
   "source": [
    "# states_b2 = [torch.load(f\"../final_models/v_4/b2_3d_v4/tf_efficientnet_b2_ns_fold{fold}_best_score.pth\") for fold in range(n_folds)]"
   ],
   "outputs": [],
   "metadata": {}
  },
  {
   "cell_type": "code",
   "execution_count": 9,
   "source": [
    "# states_b7 = [torch.load(f\"../final_models/v_4/b7_3d_v4/tf_efficientnet_b7_ns_fold{fold}_best_score.pth\") for fold in range(n_folds)]"
   ],
   "outputs": [],
   "metadata": {}
  },
  {
   "cell_type": "code",
   "execution_count": 10,
   "source": [
    "oof_df = pd.DataFrame()\n",
    "for fold in range(n_folds):\n",
    "    _df = df[df['fold'] == fold].reset_index(drop=True)\n",
    "    preds_b0 = states_b0[fold]['preds'].flatten()\n",
    "    preds_b1 = states_b1[fold]['preds'].flatten()\n",
    "    # preds_b2 = states_b2[fold]['preds'].flatten()\n",
    "    # preds_b7 = states_b7[fold]['preds'].flatten()\n",
    "    \n",
    "    _df['preds_b0'] = preds_b0\n",
    "    _df['preds_b1'] = preds_b1\n",
    "    # _df['preds_b2'] = preds_b2\n",
    "    # _df['preds_b7'] = preds_b7\n",
    "    oof_df = pd.concat([oof_df, _df])"
   ],
   "outputs": [],
   "metadata": {}
  },
  {
   "cell_type": "code",
   "execution_count": 11,
   "source": [
    "oof_df.head(10)"
   ],
   "outputs": [
    {
     "output_type": "execute_result",
     "data": {
      "text/plain": [
       "           id  target                         file_path  fold  preds_b0  \\\n",
       "0  00010beb4a       1  input/train/0/0/0/00010beb4a.npy     0  0.448730   \n",
       "1  00014b7a9d       1  input/train/0/0/0/00014b7a9d.npy     0  0.214233   \n",
       "2  0001c76f56       1  input/train/0/0/0/0001c76f56.npy     0  0.676270   \n",
       "3  0002b883f5       0  input/train/0/0/0/0002b883f5.npy     0  0.173096   \n",
       "4  00034d8429       0  input/train/0/0/0/00034d8429.npy     0  0.187988   \n",
       "5  000367454d       1  input/train/0/0/0/000367454d.npy     0  0.346680   \n",
       "6  00054fd779       1  input/train/0/0/0/00054fd779.npy     0  0.937012   \n",
       "7  0006166539       1  input/train/0/0/0/0006166539.npy     0  1.000000   \n",
       "8  00061fc157       0  input/train/0/0/0/00061fc157.npy     0  0.418701   \n",
       "9  000698406f       0  input/train/0/0/0/000698406f.npy     0  0.188477   \n",
       "\n",
       "   preds_b1  \n",
       "0  0.375732  \n",
       "1  0.172852  \n",
       "2  0.571777  \n",
       "3  0.201660  \n",
       "4  0.167114  \n",
       "5  0.336182  \n",
       "6  0.920898  \n",
       "7  1.000000  \n",
       "8  0.432373  \n",
       "9  0.169189  "
      ],
      "text/html": [
       "<div>\n",
       "<style scoped>\n",
       "    .dataframe tbody tr th:only-of-type {\n",
       "        vertical-align: middle;\n",
       "    }\n",
       "\n",
       "    .dataframe tbody tr th {\n",
       "        vertical-align: top;\n",
       "    }\n",
       "\n",
       "    .dataframe thead th {\n",
       "        text-align: right;\n",
       "    }\n",
       "</style>\n",
       "<table border=\"1\" class=\"dataframe\">\n",
       "  <thead>\n",
       "    <tr style=\"text-align: right;\">\n",
       "      <th></th>\n",
       "      <th>id</th>\n",
       "      <th>target</th>\n",
       "      <th>file_path</th>\n",
       "      <th>fold</th>\n",
       "      <th>preds_b0</th>\n",
       "      <th>preds_b1</th>\n",
       "    </tr>\n",
       "  </thead>\n",
       "  <tbody>\n",
       "    <tr>\n",
       "      <th>0</th>\n",
       "      <td>00010beb4a</td>\n",
       "      <td>1</td>\n",
       "      <td>input/train/0/0/0/00010beb4a.npy</td>\n",
       "      <td>0</td>\n",
       "      <td>0.448730</td>\n",
       "      <td>0.375732</td>\n",
       "    </tr>\n",
       "    <tr>\n",
       "      <th>1</th>\n",
       "      <td>00014b7a9d</td>\n",
       "      <td>1</td>\n",
       "      <td>input/train/0/0/0/00014b7a9d.npy</td>\n",
       "      <td>0</td>\n",
       "      <td>0.214233</td>\n",
       "      <td>0.172852</td>\n",
       "    </tr>\n",
       "    <tr>\n",
       "      <th>2</th>\n",
       "      <td>0001c76f56</td>\n",
       "      <td>1</td>\n",
       "      <td>input/train/0/0/0/0001c76f56.npy</td>\n",
       "      <td>0</td>\n",
       "      <td>0.676270</td>\n",
       "      <td>0.571777</td>\n",
       "    </tr>\n",
       "    <tr>\n",
       "      <th>3</th>\n",
       "      <td>0002b883f5</td>\n",
       "      <td>0</td>\n",
       "      <td>input/train/0/0/0/0002b883f5.npy</td>\n",
       "      <td>0</td>\n",
       "      <td>0.173096</td>\n",
       "      <td>0.201660</td>\n",
       "    </tr>\n",
       "    <tr>\n",
       "      <th>4</th>\n",
       "      <td>00034d8429</td>\n",
       "      <td>0</td>\n",
       "      <td>input/train/0/0/0/00034d8429.npy</td>\n",
       "      <td>0</td>\n",
       "      <td>0.187988</td>\n",
       "      <td>0.167114</td>\n",
       "    </tr>\n",
       "    <tr>\n",
       "      <th>5</th>\n",
       "      <td>000367454d</td>\n",
       "      <td>1</td>\n",
       "      <td>input/train/0/0/0/000367454d.npy</td>\n",
       "      <td>0</td>\n",
       "      <td>0.346680</td>\n",
       "      <td>0.336182</td>\n",
       "    </tr>\n",
       "    <tr>\n",
       "      <th>6</th>\n",
       "      <td>00054fd779</td>\n",
       "      <td>1</td>\n",
       "      <td>input/train/0/0/0/00054fd779.npy</td>\n",
       "      <td>0</td>\n",
       "      <td>0.937012</td>\n",
       "      <td>0.920898</td>\n",
       "    </tr>\n",
       "    <tr>\n",
       "      <th>7</th>\n",
       "      <td>0006166539</td>\n",
       "      <td>1</td>\n",
       "      <td>input/train/0/0/0/0006166539.npy</td>\n",
       "      <td>0</td>\n",
       "      <td>1.000000</td>\n",
       "      <td>1.000000</td>\n",
       "    </tr>\n",
       "    <tr>\n",
       "      <th>8</th>\n",
       "      <td>00061fc157</td>\n",
       "      <td>0</td>\n",
       "      <td>input/train/0/0/0/00061fc157.npy</td>\n",
       "      <td>0</td>\n",
       "      <td>0.418701</td>\n",
       "      <td>0.432373</td>\n",
       "    </tr>\n",
       "    <tr>\n",
       "      <th>9</th>\n",
       "      <td>000698406f</td>\n",
       "      <td>0</td>\n",
       "      <td>input/train/0/0/0/000698406f.npy</td>\n",
       "      <td>0</td>\n",
       "      <td>0.188477</td>\n",
       "      <td>0.169189</td>\n",
       "    </tr>\n",
       "  </tbody>\n",
       "</table>\n",
       "</div>"
      ]
     },
     "metadata": {},
     "execution_count": 11
    }
   ],
   "metadata": {}
  },
  {
   "cell_type": "code",
   "execution_count": 12,
   "source": [
    "from sklearn.linear_model import LinearRegression"
   ],
   "outputs": [],
   "metadata": {}
  },
  {
   "cell_type": "code",
   "execution_count": 13,
   "source": [
    "X = oof_df[['preds_b0', 'preds_b1']] #, 'preds_b2', 'preds_b7']]\n",
    "y = oof_df.target.values"
   ],
   "outputs": [],
   "metadata": {}
  },
  {
   "cell_type": "code",
   "execution_count": 14,
   "source": [
    "X.values.shape"
   ],
   "outputs": [
    {
     "output_type": "execute_result",
     "data": {
      "text/plain": [
       "(560000, 2)"
      ]
     },
     "metadata": {},
     "execution_count": 14
    }
   ],
   "metadata": {}
  },
  {
   "cell_type": "code",
   "execution_count": 15,
   "source": [
    "reg = LinearRegression().fit(X, y)"
   ],
   "outputs": [],
   "metadata": {}
  },
  {
   "cell_type": "code",
   "execution_count": 16,
   "source": [
    "reg.coef_"
   ],
   "outputs": [
    {
     "output_type": "execute_result",
     "data": {
      "text/plain": [
       "array([0.33756143, 0.65041196], dtype=float32)"
      ]
     },
     "metadata": {},
     "execution_count": 16
    }
   ],
   "metadata": {}
  },
  {
   "cell_type": "code",
   "execution_count": 17,
   "source": [
    "reg.intercept_"
   ],
   "outputs": [
    {
     "output_type": "execute_result",
     "data": {
      "text/plain": [
       "0.022341937"
      ]
     },
     "metadata": {},
     "execution_count": 17
    }
   ],
   "metadata": {}
  },
  {
   "cell_type": "code",
   "execution_count": 18,
   "source": [
    "df_test_b0 = pd.read_csv(f\"../final_models/v_5/b0/submission.csv\")\n",
    "df_test_b1 = pd.read_csv(f\"../final_models/v_5/b1/submission.csv\")\n",
    "# df_test_b2 = pd.read_csv(f\"../final_models/v_4/b2_3d_v4/submission.csv\")\n",
    "# df_test_b7 = pd.read_csv(f\"../final_models/v_4/b7_3d_v4/submission.csv\")"
   ],
   "outputs": [],
   "metadata": {}
  },
  {
   "cell_type": "code",
   "execution_count": 19,
   "source": [
    "test_X = np.vstack([df_test_b0.target.values, df_test_b1.target.values]).T #, df_test_b2.target.values, df_test_b7.target.values"
   ],
   "outputs": [],
   "metadata": {}
  },
  {
   "cell_type": "code",
   "execution_count": 20,
   "source": [
    "sub = pd.read_csv(\"../input/sample_submission.csv\")"
   ],
   "outputs": [],
   "metadata": {}
  },
  {
   "cell_type": "code",
   "execution_count": 21,
   "source": [
    "sub['target'] = reg.predict(test_X)"
   ],
   "outputs": [],
   "metadata": {}
  },
  {
   "cell_type": "code",
   "execution_count": 22,
   "source": [
    "sub"
   ],
   "outputs": [
    {
     "output_type": "execute_result",
     "data": {
      "text/plain": [
       "                id    target\n",
       "0       00005bced6  1.010315\n",
       "1       0000806717  0.956172\n",
       "2       0000ef4fe1  0.357198\n",
       "3       00020de251  0.950453\n",
       "4       00024887b5  0.160246\n",
       "...            ...       ...\n",
       "225995  ffff4125f1  0.280867\n",
       "225996  ffff9d32a6  0.330954\n",
       "225997  ffff9f4c1f  0.278093\n",
       "225998  ffffa19693  1.010315\n",
       "225999  ffffebbfe2  0.106221\n",
       "\n",
       "[226000 rows x 2 columns]"
      ],
      "text/html": [
       "<div>\n",
       "<style scoped>\n",
       "    .dataframe tbody tr th:only-of-type {\n",
       "        vertical-align: middle;\n",
       "    }\n",
       "\n",
       "    .dataframe tbody tr th {\n",
       "        vertical-align: top;\n",
       "    }\n",
       "\n",
       "    .dataframe thead th {\n",
       "        text-align: right;\n",
       "    }\n",
       "</style>\n",
       "<table border=\"1\" class=\"dataframe\">\n",
       "  <thead>\n",
       "    <tr style=\"text-align: right;\">\n",
       "      <th></th>\n",
       "      <th>id</th>\n",
       "      <th>target</th>\n",
       "    </tr>\n",
       "  </thead>\n",
       "  <tbody>\n",
       "    <tr>\n",
       "      <th>0</th>\n",
       "      <td>00005bced6</td>\n",
       "      <td>1.010315</td>\n",
       "    </tr>\n",
       "    <tr>\n",
       "      <th>1</th>\n",
       "      <td>0000806717</td>\n",
       "      <td>0.956172</td>\n",
       "    </tr>\n",
       "    <tr>\n",
       "      <th>2</th>\n",
       "      <td>0000ef4fe1</td>\n",
       "      <td>0.357198</td>\n",
       "    </tr>\n",
       "    <tr>\n",
       "      <th>3</th>\n",
       "      <td>00020de251</td>\n",
       "      <td>0.950453</td>\n",
       "    </tr>\n",
       "    <tr>\n",
       "      <th>4</th>\n",
       "      <td>00024887b5</td>\n",
       "      <td>0.160246</td>\n",
       "    </tr>\n",
       "    <tr>\n",
       "      <th>...</th>\n",
       "      <td>...</td>\n",
       "      <td>...</td>\n",
       "    </tr>\n",
       "    <tr>\n",
       "      <th>225995</th>\n",
       "      <td>ffff4125f1</td>\n",
       "      <td>0.280867</td>\n",
       "    </tr>\n",
       "    <tr>\n",
       "      <th>225996</th>\n",
       "      <td>ffff9d32a6</td>\n",
       "      <td>0.330954</td>\n",
       "    </tr>\n",
       "    <tr>\n",
       "      <th>225997</th>\n",
       "      <td>ffff9f4c1f</td>\n",
       "      <td>0.278093</td>\n",
       "    </tr>\n",
       "    <tr>\n",
       "      <th>225998</th>\n",
       "      <td>ffffa19693</td>\n",
       "      <td>1.010315</td>\n",
       "    </tr>\n",
       "    <tr>\n",
       "      <th>225999</th>\n",
       "      <td>ffffebbfe2</td>\n",
       "      <td>0.106221</td>\n",
       "    </tr>\n",
       "  </tbody>\n",
       "</table>\n",
       "<p>226000 rows × 2 columns</p>\n",
       "</div>"
      ]
     },
     "metadata": {},
     "execution_count": 22
    }
   ],
   "metadata": {}
  },
  {
   "cell_type": "code",
   "execution_count": 23,
   "source": [
    "sub.to_csv(\"../final_models/v_5/submission.csv\", index=False)"
   ],
   "outputs": [],
   "metadata": {}
  },
  {
   "cell_type": "code",
   "execution_count": null,
   "source": [],
   "outputs": [],
   "metadata": {}
  },
  {
   "cell_type": "code",
   "execution_count": null,
   "source": [],
   "outputs": [],
   "metadata": {}
  },
  {
   "cell_type": "code",
   "execution_count": 24,
   "source": [
    "df_test_b0 = pd.read_csv(f\"../final_models/v_5/b0/submission.csv\")\n",
    "df_test_b1 = pd.read_csv(f\"../final_models/v_5/b1/submission.csv\")\n",
    "\n",
    "sub['target'] = df_test_b0.target.values + df_test_b1.target.values"
   ],
   "outputs": [],
   "metadata": {}
  },
  {
   "cell_type": "code",
   "execution_count": 26,
   "source": [
    "sub.to_csv(\"../final_models/v_5/submission.csv\", index=False)"
   ],
   "outputs": [],
   "metadata": {}
  },
  {
   "cell_type": "code",
   "execution_count": null,
   "source": [],
   "outputs": [],
   "metadata": {}
  }
 ],
 "metadata": {
  "orig_nbformat": 4,
  "language_info": {
   "name": "python",
   "version": "3.8.10",
   "mimetype": "text/x-python",
   "codemirror_mode": {
    "name": "ipython",
    "version": 3
   },
   "pygments_lexer": "ipython3",
   "nbconvert_exporter": "python",
   "file_extension": ".py"
  },
  "kernelspec": {
   "name": "python3",
   "display_name": "Python 3.8.10 64-bit ('rapids-v4': conda)"
  },
  "interpreter": {
   "hash": "0f7903ac294ad2cfa4b460d4d76e837ac8b3eb19f1a8b3e51f3109d2ad8b1409"
  }
 },
 "nbformat": 4,
 "nbformat_minor": 2
}