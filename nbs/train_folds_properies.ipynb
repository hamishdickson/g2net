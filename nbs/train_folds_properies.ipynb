{
 "cells": [
  {
   "cell_type": "code",
   "execution_count": 4,
   "source": [
    "import pandas as pd\n",
    "import numpy as np"
   ],
   "outputs": [],
   "metadata": {}
  },
  {
   "cell_type": "code",
   "execution_count": 2,
   "source": [
    "df = pd.read_csv(\"../input/train_folds.csv\")\n",
    "df.head(3)"
   ],
   "outputs": [
    {
     "output_type": "execute_result",
     "data": {
      "text/plain": [
       "           id  target                         file_path  fold\n",
       "0  00000e74ad       1  input/train/0/0/0/00000e74ad.npy     2\n",
       "1  00001f4945       0  input/train/0/0/0/00001f4945.npy     1\n",
       "2  0000661522       0  input/train/0/0/0/0000661522.npy     3"
      ],
      "text/html": [
       "<div>\n",
       "<style scoped>\n",
       "    .dataframe tbody tr th:only-of-type {\n",
       "        vertical-align: middle;\n",
       "    }\n",
       "\n",
       "    .dataframe tbody tr th {\n",
       "        vertical-align: top;\n",
       "    }\n",
       "\n",
       "    .dataframe thead th {\n",
       "        text-align: right;\n",
       "    }\n",
       "</style>\n",
       "<table border=\"1\" class=\"dataframe\">\n",
       "  <thead>\n",
       "    <tr style=\"text-align: right;\">\n",
       "      <th></th>\n",
       "      <th>id</th>\n",
       "      <th>target</th>\n",
       "      <th>file_path</th>\n",
       "      <th>fold</th>\n",
       "    </tr>\n",
       "  </thead>\n",
       "  <tbody>\n",
       "    <tr>\n",
       "      <th>0</th>\n",
       "      <td>00000e74ad</td>\n",
       "      <td>1</td>\n",
       "      <td>input/train/0/0/0/00000e74ad.npy</td>\n",
       "      <td>2</td>\n",
       "    </tr>\n",
       "    <tr>\n",
       "      <th>1</th>\n",
       "      <td>00001f4945</td>\n",
       "      <td>0</td>\n",
       "      <td>input/train/0/0/0/00001f4945.npy</td>\n",
       "      <td>1</td>\n",
       "    </tr>\n",
       "    <tr>\n",
       "      <th>2</th>\n",
       "      <td>0000661522</td>\n",
       "      <td>0</td>\n",
       "      <td>input/train/0/0/0/0000661522.npy</td>\n",
       "      <td>3</td>\n",
       "    </tr>\n",
       "  </tbody>\n",
       "</table>\n",
       "</div>"
      ]
     },
     "metadata": {},
     "execution_count": 2
    }
   ],
   "metadata": {}
  },
  {
   "cell_type": "code",
   "execution_count": 3,
   "source": [
    "df_test = pd.read_csv(\"../input/sample_submission.csv\")\n",
    "df_test.head(3)"
   ],
   "outputs": [
    {
     "output_type": "execute_result",
     "data": {
      "text/plain": [
       "           id  target\n",
       "0  00005bced6     0.5\n",
       "1  0000806717     0.5\n",
       "2  0000ef4fe1     0.5"
      ],
      "text/html": [
       "<div>\n",
       "<style scoped>\n",
       "    .dataframe tbody tr th:only-of-type {\n",
       "        vertical-align: middle;\n",
       "    }\n",
       "\n",
       "    .dataframe tbody tr th {\n",
       "        vertical-align: top;\n",
       "    }\n",
       "\n",
       "    .dataframe thead th {\n",
       "        text-align: right;\n",
       "    }\n",
       "</style>\n",
       "<table border=\"1\" class=\"dataframe\">\n",
       "  <thead>\n",
       "    <tr style=\"text-align: right;\">\n",
       "      <th></th>\n",
       "      <th>id</th>\n",
       "      <th>target</th>\n",
       "    </tr>\n",
       "  </thead>\n",
       "  <tbody>\n",
       "    <tr>\n",
       "      <th>0</th>\n",
       "      <td>00005bced6</td>\n",
       "      <td>0.5</td>\n",
       "    </tr>\n",
       "    <tr>\n",
       "      <th>1</th>\n",
       "      <td>0000806717</td>\n",
       "      <td>0.5</td>\n",
       "    </tr>\n",
       "    <tr>\n",
       "      <th>2</th>\n",
       "      <td>0000ef4fe1</td>\n",
       "      <td>0.5</td>\n",
       "    </tr>\n",
       "  </tbody>\n",
       "</table>\n",
       "</div>"
      ]
     },
     "metadata": {},
     "execution_count": 3
    }
   ],
   "metadata": {}
  },
  {
   "cell_type": "code",
   "execution_count": 5,
   "source": [
    "def calc_mean(x):\n",
    "    d = f'../input/train/{x[0]}/{x[1]}/{x[2]}/{x}.npy'\n",
    "    a = np.load(d)\n",
    "    return a.mean()\n",
    "\n",
    "def calc_std(x):\n",
    "    d = f'../input/train/{x[0]}/{x[1]}/{x[2]}/{x}.npy'\n",
    "    a = np.load(d)\n",
    "    return a.std()\n",
    "\n",
    "def calc_min(x):\n",
    "    d = f'../input/train/{x[0]}/{x[1]}/{x[2]}/{x}.npy'\n",
    "    a = np.load(d)\n",
    "    return a.min()\n",
    "\n",
    "def calc_max(x):\n",
    "    d = f'../input/train/{x[0]}/{x[1]}/{x[2]}/{x}.npy'\n",
    "    a = np.load(d)\n",
    "    return a.max()"
   ],
   "outputs": [],
   "metadata": {}
  },
  {
   "cell_type": "code",
   "execution_count": 6,
   "source": [
    "df['_mean'] = df['id'].apply(calc_mean)"
   ],
   "outputs": [],
   "metadata": {}
  },
  {
   "cell_type": "code",
   "execution_count": 7,
   "source": [
    "df['_std'] = df['id'].apply(calc_std)"
   ],
   "outputs": [],
   "metadata": {}
  },
  {
   "cell_type": "code",
   "execution_count": 8,
   "source": [
    "df['_min'] = df['id'].apply(calc_min)"
   ],
   "outputs": [],
   "metadata": {}
  },
  {
   "cell_type": "code",
   "execution_count": 9,
   "source": [
    "df['_max'] = df['id'].apply(calc_max)"
   ],
   "outputs": [],
   "metadata": {}
  },
  {
   "cell_type": "code",
   "execution_count": 10,
   "source": [
    "df.head(3)"
   ],
   "outputs": [
    {
     "output_type": "execute_result",
     "data": {
      "text/plain": [
       "           id  target                         file_path  fold         _mean  \\\n",
       "0  00000e74ad       1  input/train/0/0/0/00000e74ad.npy     2 -1.581508e-23   \n",
       "1  00001f4945       0  input/train/0/0/0/00001f4945.npy     1 -2.436180e-23   \n",
       "2  0000661522       0  input/train/0/0/0/0000661522.npy     3  6.314444e-23   \n",
       "\n",
       "           _std          _min          _max  \n",
       "0  4.937811e-21 -1.672408e-20  1.705371e-20  \n",
       "1  5.543152e-21 -1.807209e-20  1.779126e-20  \n",
       "2  5.158403e-21 -1.938187e-20  1.946032e-20  "
      ],
      "text/html": [
       "<div>\n",
       "<style scoped>\n",
       "    .dataframe tbody tr th:only-of-type {\n",
       "        vertical-align: middle;\n",
       "    }\n",
       "\n",
       "    .dataframe tbody tr th {\n",
       "        vertical-align: top;\n",
       "    }\n",
       "\n",
       "    .dataframe thead th {\n",
       "        text-align: right;\n",
       "    }\n",
       "</style>\n",
       "<table border=\"1\" class=\"dataframe\">\n",
       "  <thead>\n",
       "    <tr style=\"text-align: right;\">\n",
       "      <th></th>\n",
       "      <th>id</th>\n",
       "      <th>target</th>\n",
       "      <th>file_path</th>\n",
       "      <th>fold</th>\n",
       "      <th>_mean</th>\n",
       "      <th>_std</th>\n",
       "      <th>_min</th>\n",
       "      <th>_max</th>\n",
       "    </tr>\n",
       "  </thead>\n",
       "  <tbody>\n",
       "    <tr>\n",
       "      <th>0</th>\n",
       "      <td>00000e74ad</td>\n",
       "      <td>1</td>\n",
       "      <td>input/train/0/0/0/00000e74ad.npy</td>\n",
       "      <td>2</td>\n",
       "      <td>-1.581508e-23</td>\n",
       "      <td>4.937811e-21</td>\n",
       "      <td>-1.672408e-20</td>\n",
       "      <td>1.705371e-20</td>\n",
       "    </tr>\n",
       "    <tr>\n",
       "      <th>1</th>\n",
       "      <td>00001f4945</td>\n",
       "      <td>0</td>\n",
       "      <td>input/train/0/0/0/00001f4945.npy</td>\n",
       "      <td>1</td>\n",
       "      <td>-2.436180e-23</td>\n",
       "      <td>5.543152e-21</td>\n",
       "      <td>-1.807209e-20</td>\n",
       "      <td>1.779126e-20</td>\n",
       "    </tr>\n",
       "    <tr>\n",
       "      <th>2</th>\n",
       "      <td>0000661522</td>\n",
       "      <td>0</td>\n",
       "      <td>input/train/0/0/0/0000661522.npy</td>\n",
       "      <td>3</td>\n",
       "      <td>6.314444e-23</td>\n",
       "      <td>5.158403e-21</td>\n",
       "      <td>-1.938187e-20</td>\n",
       "      <td>1.946032e-20</td>\n",
       "    </tr>\n",
       "  </tbody>\n",
       "</table>\n",
       "</div>"
      ]
     },
     "metadata": {},
     "execution_count": 10
    }
   ],
   "metadata": {}
  },
  {
   "cell_type": "code",
   "execution_count": 12,
   "source": [
    "# df.to_csv(\"../input/train_folds.csv\", index=False)"
   ],
   "outputs": [],
   "metadata": {}
  },
  {
   "cell_type": "code",
   "execution_count": 13,
   "source": [
    "def calc_mean(x):\n",
    "    d = f'../input/test/{x[0]}/{x[1]}/{x[2]}/{x}.npy'\n",
    "    a = np.load(d)\n",
    "    return a.mean()\n",
    "\n",
    "def calc_std(x):\n",
    "    d = f'../input/test/{x[0]}/{x[1]}/{x[2]}/{x}.npy'\n",
    "    a = np.load(d)\n",
    "    return a.std()\n",
    "\n",
    "def calc_min(x):\n",
    "    d = f'../input/test/{x[0]}/{x[1]}/{x[2]}/{x}.npy'\n",
    "    a = np.load(d)\n",
    "    return a.min()\n",
    "\n",
    "def calc_max(x):\n",
    "    d = f'../input/test/{x[0]}/{x[1]}/{x[2]}/{x}.npy'\n",
    "    a = np.load(d)\n",
    "    return a.max()"
   ],
   "outputs": [],
   "metadata": {}
  },
  {
   "cell_type": "code",
   "execution_count": 14,
   "source": [
    "df_test['_mean'] = df_test['id'].apply(calc_mean)"
   ],
   "outputs": [],
   "metadata": {}
  },
  {
   "cell_type": "code",
   "execution_count": 15,
   "source": [
    "df_test['_std'] = df_test['id'].apply(calc_std)"
   ],
   "outputs": [],
   "metadata": {}
  },
  {
   "cell_type": "code",
   "execution_count": 16,
   "source": [
    "df_test['_min'] = df_test['id'].apply(calc_min)"
   ],
   "outputs": [],
   "metadata": {}
  },
  {
   "cell_type": "code",
   "execution_count": 17,
   "source": [
    "df_test['_max'] = df_test['id'].apply(calc_max)"
   ],
   "outputs": [],
   "metadata": {}
  },
  {
   "cell_type": "code",
   "execution_count": 18,
   "source": [
    "df_test.head(3)"
   ],
   "outputs": [
    {
     "output_type": "execute_result",
     "data": {
      "text/plain": [
       "           id  target         _mean          _std          _min          _max\n",
       "0  00005bced6     0.5  2.445248e-24  6.168206e-21 -1.607834e-20  1.682928e-20\n",
       "1  0000806717     0.5 -2.224912e-23  5.830568e-21 -1.822000e-20  1.777055e-20\n",
       "2  0000ef4fe1     0.5  8.358306e-24  6.155331e-21 -1.977580e-20  2.172763e-20"
      ],
      "text/html": [
       "<div>\n",
       "<style scoped>\n",
       "    .dataframe tbody tr th:only-of-type {\n",
       "        vertical-align: middle;\n",
       "    }\n",
       "\n",
       "    .dataframe tbody tr th {\n",
       "        vertical-align: top;\n",
       "    }\n",
       "\n",
       "    .dataframe thead th {\n",
       "        text-align: right;\n",
       "    }\n",
       "</style>\n",
       "<table border=\"1\" class=\"dataframe\">\n",
       "  <thead>\n",
       "    <tr style=\"text-align: right;\">\n",
       "      <th></th>\n",
       "      <th>id</th>\n",
       "      <th>target</th>\n",
       "      <th>_mean</th>\n",
       "      <th>_std</th>\n",
       "      <th>_min</th>\n",
       "      <th>_max</th>\n",
       "    </tr>\n",
       "  </thead>\n",
       "  <tbody>\n",
       "    <tr>\n",
       "      <th>0</th>\n",
       "      <td>00005bced6</td>\n",
       "      <td>0.5</td>\n",
       "      <td>2.445248e-24</td>\n",
       "      <td>6.168206e-21</td>\n",
       "      <td>-1.607834e-20</td>\n",
       "      <td>1.682928e-20</td>\n",
       "    </tr>\n",
       "    <tr>\n",
       "      <th>1</th>\n",
       "      <td>0000806717</td>\n",
       "      <td>0.5</td>\n",
       "      <td>-2.224912e-23</td>\n",
       "      <td>5.830568e-21</td>\n",
       "      <td>-1.822000e-20</td>\n",
       "      <td>1.777055e-20</td>\n",
       "    </tr>\n",
       "    <tr>\n",
       "      <th>2</th>\n",
       "      <td>0000ef4fe1</td>\n",
       "      <td>0.5</td>\n",
       "      <td>8.358306e-24</td>\n",
       "      <td>6.155331e-21</td>\n",
       "      <td>-1.977580e-20</td>\n",
       "      <td>2.172763e-20</td>\n",
       "    </tr>\n",
       "  </tbody>\n",
       "</table>\n",
       "</div>"
      ]
     },
     "metadata": {},
     "execution_count": 18
    }
   ],
   "metadata": {}
  },
  {
   "cell_type": "code",
   "execution_count": 19,
   "source": [
    "df_test.to_csv(\"../input/sample_submission.csv\", index=False)"
   ],
   "outputs": [],
   "metadata": {}
  },
  {
   "cell_type": "code",
   "execution_count": null,
   "source": [],
   "outputs": [],
   "metadata": {}
  }
 ],
 "metadata": {
  "orig_nbformat": 4,
  "language_info": {
   "name": "python",
   "version": "3.8.10",
   "mimetype": "text/x-python",
   "codemirror_mode": {
    "name": "ipython",
    "version": 3
   },
   "pygments_lexer": "ipython3",
   "nbconvert_exporter": "python",
   "file_extension": ".py"
  },
  "kernelspec": {
   "name": "python3",
   "display_name": "Python 3.8.10 64-bit ('rapids-v4': conda)"
  },
  "interpreter": {
   "hash": "0f7903ac294ad2cfa4b460d4d76e837ac8b3eb19f1a8b3e51f3109d2ad8b1409"
  }
 },
 "nbformat": 4,
 "nbformat_minor": 2
}