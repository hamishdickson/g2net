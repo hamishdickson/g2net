{
 "cells": [
  {
   "cell_type": "code",
   "execution_count": 1,
   "source": [
    "import pandas as pd"
   ],
   "outputs": [],
   "metadata": {}
  },
  {
   "cell_type": "code",
   "execution_count": 2,
   "source": [
    "df_mine = pd.read_csv(\"../bad/my_best.csv\")"
   ],
   "outputs": [],
   "metadata": {}
  },
  {
   "cell_type": "code",
   "execution_count": 3,
   "source": [
    "df_pub = pd.read_csv(\"../bad/public.csv\")"
   ],
   "outputs": [],
   "metadata": {}
  },
  {
   "cell_type": "code",
   "execution_count": 4,
   "source": [
    "sub = pd.read_csv(\"../input/sample_submission.csv\")"
   ],
   "outputs": [],
   "metadata": {}
  },
  {
   "cell_type": "code",
   "execution_count": 13,
   "source": [
    "sub['target'] = 0.7*df_mine.target.values + 0.3*df_pub.target.values"
   ],
   "outputs": [],
   "metadata": {}
  },
  {
   "cell_type": "code",
   "execution_count": 14,
   "source": [
    "sub[[\n",
    "    'id', 'target'\n",
    "]].to_csv(\"../bad/pub_blend.csv\", index=False)"
   ],
   "outputs": [],
   "metadata": {}
  },
  {
   "cell_type": "code",
   "execution_count": 10,
   "source": [
    "sub"
   ],
   "outputs": [
    {
     "output_type": "execute_result",
     "data": {
      "text/plain": [
       "                id    target         _mean          _std          _min  \\\n",
       "0       00005bced6  1.001297  2.445248e-24  6.168206e-21 -1.607834e-20   \n",
       "1       0000806717  0.928587 -2.224912e-23  5.830568e-21 -1.822000e-20   \n",
       "2       0000ef4fe1  0.327367  8.358306e-24  6.155331e-21 -1.977580e-20   \n",
       "3       00020de251  0.873198  1.924916e-23  5.245306e-21 -1.664904e-20   \n",
       "4       00024887b5  0.155820 -6.580902e-23  6.664351e-21 -2.872250e-20   \n",
       "...            ...       ...           ...           ...           ...   \n",
       "225995  ffff4125f1  0.305799 -2.147269e-23  4.949581e-21 -1.541576e-20   \n",
       "225996  ffff9d32a6  0.308090  2.831834e-23  7.559979e-21 -2.674572e-20   \n",
       "225997  ffff9f4c1f  0.230157 -2.630348e-23  7.154737e-21 -2.673809e-20   \n",
       "225998  ffffa19693  1.001078 -1.249149e-23  6.140199e-21 -2.323890e-20   \n",
       "225999  ffffebbfe2  0.088489 -2.014202e-23  5.883935e-21 -2.297909e-20   \n",
       "\n",
       "                _max  \n",
       "0       1.682928e-20  \n",
       "1       1.777055e-20  \n",
       "2       2.172763e-20  \n",
       "3       1.594509e-20  \n",
       "4       2.895841e-20  \n",
       "...              ...  \n",
       "225995  1.606353e-20  \n",
       "225996  2.838456e-20  \n",
       "225997  2.573732e-20  \n",
       "225998  2.252685e-20  \n",
       "225999  2.371529e-20  \n",
       "\n",
       "[226000 rows x 6 columns]"
      ],
      "text/html": [
       "<div>\n",
       "<style scoped>\n",
       "    .dataframe tbody tr th:only-of-type {\n",
       "        vertical-align: middle;\n",
       "    }\n",
       "\n",
       "    .dataframe tbody tr th {\n",
       "        vertical-align: top;\n",
       "    }\n",
       "\n",
       "    .dataframe thead th {\n",
       "        text-align: right;\n",
       "    }\n",
       "</style>\n",
       "<table border=\"1\" class=\"dataframe\">\n",
       "  <thead>\n",
       "    <tr style=\"text-align: right;\">\n",
       "      <th></th>\n",
       "      <th>id</th>\n",
       "      <th>target</th>\n",
       "      <th>_mean</th>\n",
       "      <th>_std</th>\n",
       "      <th>_min</th>\n",
       "      <th>_max</th>\n",
       "    </tr>\n",
       "  </thead>\n",
       "  <tbody>\n",
       "    <tr>\n",
       "      <th>0</th>\n",
       "      <td>00005bced6</td>\n",
       "      <td>1.001297</td>\n",
       "      <td>2.445248e-24</td>\n",
       "      <td>6.168206e-21</td>\n",
       "      <td>-1.607834e-20</td>\n",
       "      <td>1.682928e-20</td>\n",
       "    </tr>\n",
       "    <tr>\n",
       "      <th>1</th>\n",
       "      <td>0000806717</td>\n",
       "      <td>0.928587</td>\n",
       "      <td>-2.224912e-23</td>\n",
       "      <td>5.830568e-21</td>\n",
       "      <td>-1.822000e-20</td>\n",
       "      <td>1.777055e-20</td>\n",
       "    </tr>\n",
       "    <tr>\n",
       "      <th>2</th>\n",
       "      <td>0000ef4fe1</td>\n",
       "      <td>0.327367</td>\n",
       "      <td>8.358306e-24</td>\n",
       "      <td>6.155331e-21</td>\n",
       "      <td>-1.977580e-20</td>\n",
       "      <td>2.172763e-20</td>\n",
       "    </tr>\n",
       "    <tr>\n",
       "      <th>3</th>\n",
       "      <td>00020de251</td>\n",
       "      <td>0.873198</td>\n",
       "      <td>1.924916e-23</td>\n",
       "      <td>5.245306e-21</td>\n",
       "      <td>-1.664904e-20</td>\n",
       "      <td>1.594509e-20</td>\n",
       "    </tr>\n",
       "    <tr>\n",
       "      <th>4</th>\n",
       "      <td>00024887b5</td>\n",
       "      <td>0.155820</td>\n",
       "      <td>-6.580902e-23</td>\n",
       "      <td>6.664351e-21</td>\n",
       "      <td>-2.872250e-20</td>\n",
       "      <td>2.895841e-20</td>\n",
       "    </tr>\n",
       "    <tr>\n",
       "      <th>...</th>\n",
       "      <td>...</td>\n",
       "      <td>...</td>\n",
       "      <td>...</td>\n",
       "      <td>...</td>\n",
       "      <td>...</td>\n",
       "      <td>...</td>\n",
       "    </tr>\n",
       "    <tr>\n",
       "      <th>225995</th>\n",
       "      <td>ffff4125f1</td>\n",
       "      <td>0.305799</td>\n",
       "      <td>-2.147269e-23</td>\n",
       "      <td>4.949581e-21</td>\n",
       "      <td>-1.541576e-20</td>\n",
       "      <td>1.606353e-20</td>\n",
       "    </tr>\n",
       "    <tr>\n",
       "      <th>225996</th>\n",
       "      <td>ffff9d32a6</td>\n",
       "      <td>0.308090</td>\n",
       "      <td>2.831834e-23</td>\n",
       "      <td>7.559979e-21</td>\n",
       "      <td>-2.674572e-20</td>\n",
       "      <td>2.838456e-20</td>\n",
       "    </tr>\n",
       "    <tr>\n",
       "      <th>225997</th>\n",
       "      <td>ffff9f4c1f</td>\n",
       "      <td>0.230157</td>\n",
       "      <td>-2.630348e-23</td>\n",
       "      <td>7.154737e-21</td>\n",
       "      <td>-2.673809e-20</td>\n",
       "      <td>2.573732e-20</td>\n",
       "    </tr>\n",
       "    <tr>\n",
       "      <th>225998</th>\n",
       "      <td>ffffa19693</td>\n",
       "      <td>1.001078</td>\n",
       "      <td>-1.249149e-23</td>\n",
       "      <td>6.140199e-21</td>\n",
       "      <td>-2.323890e-20</td>\n",
       "      <td>2.252685e-20</td>\n",
       "    </tr>\n",
       "    <tr>\n",
       "      <th>225999</th>\n",
       "      <td>ffffebbfe2</td>\n",
       "      <td>0.088489</td>\n",
       "      <td>-2.014202e-23</td>\n",
       "      <td>5.883935e-21</td>\n",
       "      <td>-2.297909e-20</td>\n",
       "      <td>2.371529e-20</td>\n",
       "    </tr>\n",
       "  </tbody>\n",
       "</table>\n",
       "<p>226000 rows × 6 columns</p>\n",
       "</div>"
      ]
     },
     "metadata": {},
     "execution_count": 10
    }
   ],
   "metadata": {}
  },
  {
   "cell_type": "code",
   "execution_count": null,
   "source": [],
   "outputs": [],
   "metadata": {}
  }
 ],
 "metadata": {
  "orig_nbformat": 4,
  "language_info": {
   "name": "python",
   "version": "3.8.10",
   "mimetype": "text/x-python",
   "codemirror_mode": {
    "name": "ipython",
    "version": 3
   },
   "pygments_lexer": "ipython3",
   "nbconvert_exporter": "python",
   "file_extension": ".py"
  },
  "kernelspec": {
   "name": "python3",
   "display_name": "Python 3.8.10 64-bit ('rapids-v4': conda)"
  },
  "interpreter": {
   "hash": "0f7903ac294ad2cfa4b460d4d76e837ac8b3eb19f1a8b3e51f3109d2ad8b1409"
  }
 },
 "nbformat": 4,
 "nbformat_minor": 2
}